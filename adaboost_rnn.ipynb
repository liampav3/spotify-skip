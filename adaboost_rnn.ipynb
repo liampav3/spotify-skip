{
 "cells": [
  {
   "cell_type": "code",
   "execution_count": 29,
   "id": "f65e425b",
   "metadata": {},
   "outputs": [],
   "source": [
    "import numpy as np\n",
    "import pandas as pd\n",
    "from sklearn.model_selection import train_test_split, cross_validate\n",
    "from sklearn.ensemble import AdaBoostClassifier\n",
    "from sklearn.tree import DecisionTreeClassifier\n",
    "from sklearn.linear_model import LogisticRegression\n",
    "from sklearn.metrics import confusion_matrix\n",
    "import torch\n",
    "from torch.utils.data import Dataset, DataLoader\n",
    "from torch import nn\n",
    "from tqdm import tqdm"
   ]
  },
  {
   "cell_type": "code",
   "execution_count": 2,
   "id": "b82867d6",
   "metadata": {},
   "outputs": [],
   "source": [
    "data = pd.read_csv('data/cleaned_data.csv', index_col=0)\n",
    "data = data[data.session_id <= 20000]\n",
    "y = data['not_skipped']\n",
    "X = data.drop(['skip_1', 'skip_2','skip_3', 'not_skipped', 'hist_user_behavior_reason_end', 'mode'], axis=1)\n",
    "X_train, X_test, y_train, y_test = train_test_split(X, y)"
   ]
  },
  {
   "cell_type": "code",
   "execution_count": 116,
   "id": "92988b1a",
   "metadata": {},
   "outputs": [
    {
     "name": "stdout",
     "output_type": "stream",
     "text": [
      "Base Learner DecisionTreeClassifier(max_depth=1), Number of Estimators: 50\n",
      "Average Validation Set Accuracy: 0.676054493210945\n",
      "\n",
      "Base Learner DecisionTreeClassifier(max_depth=1), Number of Estimators: 100\n",
      "Average Validation Set Accuracy: 0.6765011497308066\n",
      "\n",
      "Base Learner DecisionTreeClassifier(max_depth=1), Number of Estimators: 150\n",
      "Average Validation Set Accuracy: 0.6762053899601713\n",
      "\n",
      "Base Learner DecisionTreeClassifier(max_depth=3), Number of Estimators: 50\n",
      "Average Validation Set Accuracy: 0.6793561447371882\n",
      "\n",
      "Base Learner DecisionTreeClassifier(max_depth=3), Number of Estimators: 100\n",
      "Average Validation Set Accuracy: 0.6153694119071731\n",
      "\n",
      "Base Learner DecisionTreeClassifier(max_depth=3), Number of Estimators: 150\n",
      "Average Validation Set Accuracy: 0.6147295995917379\n",
      "\n"
     ]
    }
   ],
   "source": [
    "base_learners = [DecisionTreeClassifier(max_depth=1), DecisionTreeClassifier(max_depth=3)]\n",
    "num_estimators = [50, 100, 150]\n",
    "\n",
    "best_score = 0\n",
    "best_model = None\n",
    "for learner in base_learners:\n",
    "    for num_estimator in num_estimators:\n",
    "        model = AdaBoostClassifier(base_estimator=learner, n_estimators=num_estimator)\n",
    "        cv = cross_validate(model, X, y, cv=5)\n",
    "        val_score = cv['test_score'].mean()\n",
    "        print(f'Base Learner {learner}, Number of Estimators: {num_estimator}')\n",
    "        print(f'Average Validation Set Accuracy: {val_score}')\n",
    "        print()\n",
    "        if  val_score > best_score:\n",
    "            best_score = val_score\n",
    "            best_model = model"
   ]
  },
  {
   "cell_type": "code",
   "execution_count": 117,
   "id": "3a24ba20",
   "metadata": {},
   "outputs": [
    {
     "name": "stdout",
     "output_type": "stream",
     "text": [
      "AdaBoostClassifier(base_estimator=DecisionTreeClassifier(max_depth=3))\n",
      "Accuracy:  0.7965426495086796\n",
      "Recall: 0.5677045087384345, Precision: 0.7527017817155097\n"
     ]
    }
   ],
   "source": [
    "best_model.fit(X_train, y_train)\n",
    "pred = best_model.predict(X_test)\n",
    "tn, fp, fn, tp = confusion_matrix(y_test, pred).ravel()\n",
    "\n",
    "print(best_model)\n",
    "print('Accuracy: ', (tn+tp)/(tp+tn+fp+fn))\n",
    "print(f'Recall: {tp/(tp+fn)}, Precision: {tp/(tp+fp)}')"
   ]
  },
  {
   "cell_type": "code",
   "execution_count": 118,
   "id": "e6c1c98a",
   "metadata": {},
   "outputs": [],
   "source": [
    "class RecurrentDataset(Dataset):\n",
    "    def __init__(self, data, idxs):\n",
    "        self.data = data\n",
    "        self.idxs =  idxs\n",
    "    \n",
    "    def __len__(self):\n",
    "        return len(self.idxs)\n",
    "    \n",
    "    def __getitem__(self, idx):\n",
    "        session = data[data.session_id==self.idxs[idx]]\n",
    "        y = session['not_skipped']\n",
    "        x = session.drop(['skip_1', 'skip_2','skip_3', 'not_skipped', 'session_id', 'hist_user_behavior_reason_end', 'mode'], axis=1)\n",
    "        return torch.Tensor(np.array(x)), torch.Tensor(np.array(y))\n",
    "\n",
    "        \n",
    "        "
   ]
  },
  {
   "cell_type": "code",
   "execution_count": 121,
   "id": "a976dd71",
   "metadata": {},
   "outputs": [],
   "source": [
    "idxs = [i for i in range(int(data.session_id.max()) + 1)]\n",
    "train_val_idxs, test_idxs = train_test_split(idxs)\n",
    "train_idxs, val_idxs = train_test_split(train_val_idxs)\n",
    "train_data = RecurrentDataset(data, train_idxs)\n",
    "val_data = RecurrentDataset(data, val_idxs)\n",
    "test_data = RecurrentDataset(data, test_idxs)\n",
    "\n",
    "train_dl = DataLoader(train_data, num_workers=8)\n",
    "val_dl = DataLoader(val_data, num_workers=8)\n",
    "test_dl = DataLoader(test_data, num_workers=8)"
   ]
  },
  {
   "cell_type": "code",
   "execution_count": 102,
   "id": "8e80a177",
   "metadata": {},
   "outputs": [],
   "source": [
    "class ManyToManyRNN(nn.Module):\n",
    "    def __init__(self, num_recurrent, hidden_size, lr=.0001):\n",
    "        super(ManyToManyRNN, self).__init__()\n",
    "        self.rnn = nn.RNN(41, hidden_size, num_layers=num_recurrent)\n",
    "        \n",
    "        self.ffn = nn.Linear(hidden_size, 1)\n",
    "        self.criterion = nn.BCEWithLogitsLoss()\n",
    "        self.optim = torch.optim.Adam(self.parameters(), lr=lr)\n",
    "        \n",
    "        self.device = torch.device('cuda:0' if torch.cuda.is_available() else 'cpu')\n",
    "        self.to(self.device)\n",
    "        \n",
    "    def forward(self, x):\n",
    "        embeds, _inner = self.rnn(x)\n",
    "        return self.ffn(embeds)\n",
    "    \n",
    "    def train(self, dl, epochs=10):\n",
    "        for epoch in range(epochs):\n",
    "            for x, y in tqdm(dl):\n",
    "                x, y = x.to(self.device), y.to(self.device) \n",
    "                self.optim.zero_grad()\n",
    "                \n",
    "                # get ouputs, unsqueeze it\n",
    "                out = self.forward(x)\n",
    "                out = torch.flatten(out).unsqueeze(0)\n",
    "                \n",
    "                # calculate loss, backprop it, then update epoch loss\n",
    "                loss = self.criterion(out, y)\n",
    "                loss.backward()\n",
    "                \n",
    "                self.optim.step()\n",
    "                \n",
    "                \n",
    "    def evaluate(self, dl, threshold):\n",
    "        with torch.no_grad():\n",
    "            tps = 0\n",
    "            model_pos = 0\n",
    "            gold_pos = 0\n",
    "            num_correct = 0\n",
    "            total_entries = 0\n",
    "            \n",
    "            for x, y in dl:\n",
    "                x = x.to(self.device)\n",
    "                y = y.numpy().squeeze()\n",
    "                pred = torch.sigmoid(self(x)).cpu().numpy().squeeze()\n",
    "                pred[pred> threshold] = 1\n",
    "                pred[pred<= threshold] = 0\n",
    "                model_pos += pred.sum()\n",
    "                gold_pos += y.sum()\n",
    "                matches = np.zeros(len(pred))\n",
    "                matches[np.logical_and(pred, y)] = 1\n",
    "                \n",
    "                num_correct += np.sum(pred==y)\n",
    "                tps += matches.sum()\n",
    "                total_entries += len(y)\n",
    "                \n",
    "            model_pos += 1\n",
    "            prec = tps/model_pos\n",
    "            recall = tps/gold_pos\n",
    "            return prec, recall, num_correct/total_entries\n",
    "        "
   ]
  },
  {
   "cell_type": "code",
   "execution_count": 97,
   "id": "2660c5e3",
   "metadata": {},
   "outputs": [
    {
     "name": "stdout",
     "output_type": "stream",
     "text": [
      "Hidden Size 50, Number of Recurrent Layers: 1, Decision Threshold: 0.15\n",
      "Recall: 1.0, Precision: 0.33306331410796447, Accuracy: 0.3330741064774311\n",
      "Hidden Size 50, Number of Recurrent Layers: 1, Decision Threshold: 0.25\n",
      "Recall: 0.5219379317054188, Precision: 0.7675250357653791, Accuracy: 0.7881468520138686\n",
      "Hidden Size 50, Number of Recurrent Layers: 1, Decision Threshold: 0.5\n",
      "Recall: 0.4359373479910497, Precision: 0.8322808320950966, Accuracy: 0.7828975081818477\n",
      "Hidden Size 50, Number of Recurrent Layers: 3, Decision Threshold: 0.15\n",
      "Recall: 1.0, Precision: 0.33306331410796447, Accuracy: 0.3330741064774311\n",
      "Hidden Size 50, Number of Recurrent Layers: 3, Decision Threshold: 0.25\n",
      "Recall: 0.9917307131043875, Precision: 0.33411996066863325, Accuracy: 0.3389715174492077\n",
      "Hidden Size 50, Number of Recurrent Layers: 3, Decision Threshold: 0.5\n",
      "Recall: 0.0, Precision: 0.0, Accuracy: 0.6669258935225689\n",
      "Hidden Size 50, Number of Recurrent Layers: 5, Decision Threshold: 0.15\n",
      "Recall: 1.0, Precision: 0.33306331410796447, Accuracy: 0.3330741064774311\n",
      "Hidden Size 50, Number of Recurrent Layers: 5, Decision Threshold: 0.25\n",
      "Recall: 1.0, Precision: 0.33306331410796447, Accuracy: 0.3330741064774311\n",
      "Hidden Size 50, Number of Recurrent Layers: 5, Decision Threshold: 0.5\n",
      "Recall: 0.0, Precision: 0.0, Accuracy: 0.6669258935225689\n",
      "Hidden Size 100, Number of Recurrent Layers: 1, Decision Threshold: 0.15\n",
      "Recall: 1.0, Precision: 0.33306331410796447, Accuracy: 0.3330741064774311\n",
      "Hidden Size 100, Number of Recurrent Layers: 1, Decision Threshold: 0.25\n",
      "Recall: 0.5200895028699289, Precision: 0.7722085800953344, Accuracy: 0.7890865493665143\n",
      "Hidden Size 100, Number of Recurrent Layers: 1, Decision Threshold: 0.5\n",
      "Recall: 0.4417744916820702, Precision: 0.8378228782287823, Accuracy: 0.7856193901688215\n",
      "Hidden Size 100, Number of Recurrent Layers: 3, Decision Threshold: 0.15\n",
      "Recall: 1.0, Precision: 0.33306331410796447, Accuracy: 0.3330741064774311\n",
      "Hidden Size 100, Number of Recurrent Layers: 3, Decision Threshold: 0.25\n",
      "Recall: 1.0, Precision: 0.33306331410796447, Accuracy: 0.3330741064774311\n",
      "Hidden Size 100, Number of Recurrent Layers: 3, Decision Threshold: 0.5\n",
      "Recall: 0.0, Precision: 0.0, Accuracy: 0.6669258935225689\n",
      "Hidden Size 100, Number of Recurrent Layers: 5, Decision Threshold: 0.15\n",
      "Recall: 1.0, Precision: 0.33306331410796447, Accuracy: 0.3330741064774311\n",
      "Hidden Size 100, Number of Recurrent Layers: 5, Decision Threshold: 0.25\n",
      "Recall: 1.0, Precision: 0.33306331410796447, Accuracy: 0.3330741064774311\n",
      "Hidden Size 100, Number of Recurrent Layers: 5, Decision Threshold: 0.5\n",
      "Recall: 0.0, Precision: 0.0, Accuracy: 0.6669258935225689\n",
      "Hidden Size 1000, Number of Recurrent Layers: 1, Decision Threshold: 0.15\n",
      "Recall: 0.9996108570872653, Precision: 0.33327927343496594, Accuracy: 0.33385178704513785\n",
      "Hidden Size 1000, Number of Recurrent Layers: 1, Decision Threshold: 0.25\n",
      "Recall: 0.6677692382527484, Precision: 0.6379182156133829, Accuracy: 0.7631314604192995\n",
      "Hidden Size 1000, Number of Recurrent Layers: 1, Decision Threshold: 0.5\n",
      "Recall: 0.4632746376106625, Precision: 0.8314999126942553, Accuracy: 0.7899938433621723\n",
      "Hidden Size 1000, Number of Recurrent Layers: 3, Decision Threshold: 0.15\n",
      "Recall: 1.0, Precision: 0.33306331410796447, Accuracy: 0.3330741064774311\n",
      "Hidden Size 1000, Number of Recurrent Layers: 3, Decision Threshold: 0.25\n",
      "Recall: 1.0, Precision: 0.33306331410796447, Accuracy: 0.3330741064774311\n",
      "Hidden Size 1000, Number of Recurrent Layers: 3, Decision Threshold: 0.5\n",
      "Recall: 0.0, Precision: 0.0, Accuracy: 0.6669258935225689\n",
      "Hidden Size 1000, Number of Recurrent Layers: 5, Decision Threshold: 0.15\n",
      "Recall: 1.0, Precision: 0.33306331410796447, Accuracy: 0.3330741064774311\n",
      "Hidden Size 1000, Number of Recurrent Layers: 5, Decision Threshold: 0.25\n",
      "Recall: 1.0, Precision: 0.33306331410796447, Accuracy: 0.3330741064774311\n",
      "Hidden Size 1000, Number of Recurrent Layers: 5, Decision Threshold: 0.5\n",
      "Recall: 0.0, Precision: 0.0, Accuracy: 0.6669258935225689\n"
     ]
    }
   ],
   "source": [
    "hidden_sizes = [50, 100, 1000]\n",
    "nums_rnns = [1, 3, 5]\n",
    "thresholds = [.15, .25, .5]\n",
    "\n",
    "for hidden_size in hidden_sizes:\n",
    "    for num_rnns in nums_rnns:\n",
    "        model = ManyToManyRNN(num_rnns, hidden_size)\n",
    "        model.train(train_dl, epochs=15)\n",
    "        for threshold in thresholds:\n",
    "            prec, recall, acc = model.evaluate(val_dl, threshold)\n",
    "            print(f\"Hidden Size {hidden_size}, Number of Recurrent Layers: {num_rnns}, Decision Threshold: {threshold}\")\n",
    "            print(f'Recall: {recall}, Precision: {prec}, Accuracy: {acc}')"
   ]
  },
  {
   "cell_type": "code",
   "execution_count": 126,
   "id": "674db636",
   "metadata": {},
   "outputs": [
    {
     "name": "stderr",
     "output_type": "stream",
     "text": [
      "100%|████████████████████████████████████████████████████████████████████████████████████████████████████████████████████████████████████████████| 11250/11250 [00:37<00:00, 300.70it/s]\n",
      "100%|████████████████████████████████████████████████████████████████████████████████████████████████████████████████████████████████████████████| 11250/11250 [00:36<00:00, 307.35it/s]\n",
      "100%|████████████████████████████████████████████████████████████████████████████████████████████████████████████████████████████████████████████| 11250/11250 [00:36<00:00, 311.94it/s]\n",
      "100%|████████████████████████████████████████████████████████████████████████████████████████████████████████████████████████████████████████████| 11250/11250 [00:36<00:00, 309.76it/s]\n",
      "100%|████████████████████████████████████████████████████████████████████████████████████████████████████████████████████████████████████████████| 11250/11250 [00:35<00:00, 317.74it/s]\n",
      "100%|████████████████████████████████████████████████████████████████████████████████████████████████████████████████████████████████████████████| 11250/11250 [00:36<00:00, 308.20it/s]\n",
      "100%|████████████████████████████████████████████████████████████████████████████████████████████████████████████████████████████████████████████| 11250/11250 [00:36<00:00, 307.34it/s]\n",
      "100%|████████████████████████████████████████████████████████████████████████████████████████████████████████████████████████████████████████████| 11250/11250 [00:36<00:00, 306.30it/s]\n",
      "100%|████████████████████████████████████████████████████████████████████████████████████████████████████████████████████████████████████████████| 11250/11250 [00:36<00:00, 308.45it/s]\n",
      "100%|████████████████████████████████████████████████████████████████████████████████████████████████████████████████████████████████████████████| 11250/11250 [00:35<00:00, 313.62it/s]\n",
      "100%|████████████████████████████████████████████████████████████████████████████████████████████████████████████████████████████████████████████| 11250/11250 [00:35<00:00, 314.43it/s]\n",
      "100%|████████████████████████████████████████████████████████████████████████████████████████████████████████████████████████████████████████████| 11250/11250 [00:36<00:00, 310.62it/s]\n",
      "100%|████████████████████████████████████████████████████████████████████████████████████████████████████████████████████████████████████████████| 11250/11250 [00:36<00:00, 312.37it/s]\n",
      "100%|████████████████████████████████████████████████████████████████████████████████████████████████████████████████████████████████████████████| 11250/11250 [00:35<00:00, 313.44it/s]\n",
      "100%|████████████████████████████████████████████████████████████████████████████████████████████████████████████████████████████████████████████| 11250/11250 [00:36<00:00, 305.89it/s]\n",
      "100%|████████████████████████████████████████████████████████████████████████████████████████████████████████████████████████████████████████████| 11250/11250 [00:36<00:00, 309.47it/s]\n",
      "100%|████████████████████████████████████████████████████████████████████████████████████████████████████████████████████████████████████████████| 11250/11250 [00:35<00:00, 312.54it/s]\n",
      "100%|████████████████████████████████████████████████████████████████████████████████████████████████████████████████████████████████████████████| 11250/11250 [00:35<00:00, 314.83it/s]\n",
      "100%|████████████████████████████████████████████████████████████████████████████████████████████████████████████████████████████████████████████| 11250/11250 [00:36<00:00, 311.80it/s]\n",
      "100%|████████████████████████████████████████████████████████████████████████████████████████████████████████████████████████████████████████████| 11250/11250 [00:36<00:00, 312.41it/s]\n",
      "100%|████████████████████████████████████████████████████████████████████████████████████████████████████████████████████████████████████████████| 11250/11250 [00:34<00:00, 321.64it/s]\n",
      "100%|████████████████████████████████████████████████████████████████████████████████████████████████████████████████████████████████████████████| 11250/11250 [00:35<00:00, 314.99it/s]\n",
      "100%|████████████████████████████████████████████████████████████████████████████████████████████████████████████████████████████████████████████| 11250/11250 [00:35<00:00, 315.54it/s]\n",
      "100%|████████████████████████████████████████████████████████████████████████████████████████████████████████████████████████████████████████████| 11250/11250 [00:35<00:00, 313.79it/s]\n",
      "100%|████████████████████████████████████████████████████████████████████████████████████████████████████████████████████████████████████████████| 11250/11250 [00:35<00:00, 316.21it/s]\n",
      "100%|████████████████████████████████████████████████████████████████████████████████████████████████████████████████████████████████████████████| 11250/11250 [00:34<00:00, 324.19it/s]\n",
      "100%|████████████████████████████████████████████████████████████████████████████████████████████████████████████████████████████████████████████| 11250/11250 [00:35<00:00, 318.84it/s]\n",
      "100%|████████████████████████████████████████████████████████████████████████████████████████████████████████████████████████████████████████████| 11250/11250 [00:35<00:00, 319.06it/s]\n",
      "100%|████████████████████████████████████████████████████████████████████████████████████████████████████████████████████████████████████████████| 11250/11250 [00:35<00:00, 314.55it/s]\n",
      "100%|████████████████████████████████████████████████████████████████████████████████████████████████████████████████████████████████████████████| 11250/11250 [00:35<00:00, 314.05it/s]\n"
     ]
    }
   ],
   "source": [
    "model = ManyToManyRNN(1, 100)\n",
    "model.train(train_dl, epochs=30)"
   ]
  },
  {
   "cell_type": "code",
   "execution_count": 128,
   "id": "87fd2100",
   "metadata": {},
   "outputs": [
    {
     "data": {
      "text/plain": [
       "(0.692079940784604, 0.616573856975381, 0.7826108016468879)"
      ]
     },
     "execution_count": 128,
     "metadata": {},
     "output_type": "execute_result"
    }
   ],
   "source": [
    "model.evaluate(test_dl, .3)"
   ]
  },
  {
   "cell_type": "code",
   "execution_count": null,
   "id": "2945576d",
   "metadata": {},
   "outputs": [],
   "source": []
  },
  {
   "cell_type": "code",
   "execution_count": null,
   "id": "6077a136",
   "metadata": {},
   "outputs": [],
   "source": []
  }
 ],
 "metadata": {
  "kernelspec": {
   "display_name": "Python 3 (ipykernel)",
   "language": "python",
   "name": "python3"
  },
  "language_info": {
   "codemirror_mode": {
    "name": "ipython",
    "version": 3
   },
   "file_extension": ".py",
   "mimetype": "text/x-python",
   "name": "python",
   "nbconvert_exporter": "python",
   "pygments_lexer": "ipython3",
   "version": "3.8.10"
  }
 },
 "nbformat": 4,
 "nbformat_minor": 5
}
