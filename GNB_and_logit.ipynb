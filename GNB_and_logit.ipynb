{
 "cells": [
  {
   "cell_type": "markdown",
   "metadata": {},
   "source": [
    "# Training Logistic Regression and Gaussian Naive Bayes"
   ]
  },
  {
   "cell_type": "code",
   "execution_count": 21,
   "metadata": {},
   "outputs": [],
   "source": [
    "import pandas as pd\n",
    "from sklearn.model_selection import train_test_split\n",
    "from sklearn.metrics import (\n",
    "    accuracy_score, \n",
    "    precision_score, \n",
    "    recall_score, \n",
    "    f1_score, \n",
    "    confusion_matrix, \n",
    "    roc_curve, \n",
    "    roc_auc_score\n",
    ")\n",
    "\n",
    "from sklearn.linear_model import LogisticRegression\n",
    "from sklearn.naive_bayes import GaussianNB\n",
    "\n",
    "import matplotlib.pyplot as plt\n",
    "\n",
    "SAVE_FIG = True # set to true to save figures as PNGs\n",
    "\n"
   ]
  },
  {
   "cell_type": "markdown",
   "metadata": {},
   "source": [
    "## Data Processing"
   ]
  },
  {
   "cell_type": "code",
   "execution_count": 2,
   "metadata": {},
   "outputs": [
    {
     "data": {
      "text/html": [
       "<div>\n",
       "<style scoped>\n",
       "    .dataframe tbody tr th:only-of-type {\n",
       "        vertical-align: middle;\n",
       "    }\n",
       "\n",
       "    .dataframe tbody tr th {\n",
       "        vertical-align: top;\n",
       "    }\n",
       "\n",
       "    .dataframe thead th {\n",
       "        text-align: right;\n",
       "    }\n",
       "</style>\n",
       "<table border=\"1\" class=\"dataframe\">\n",
       "  <thead>\n",
       "    <tr style=\"text-align: right;\">\n",
       "      <th></th>\n",
       "      <th>session_position</th>\n",
       "      <th>session_length</th>\n",
       "      <th>context_switch</th>\n",
       "      <th>no_pause_before_play</th>\n",
       "      <th>short_pause_before_play</th>\n",
       "      <th>long_pause_before_play</th>\n",
       "      <th>hist_user_behavior_n_seekfwd</th>\n",
       "      <th>hist_user_behavior_n_seekback</th>\n",
       "      <th>hist_user_behavior_is_shuffle</th>\n",
       "      <th>hour_of_day</th>\n",
       "      <th>...</th>\n",
       "      <th>time_signature</th>\n",
       "      <th>valence</th>\n",
       "      <th>acoustic_vector_0</th>\n",
       "      <th>acoustic_vector_1</th>\n",
       "      <th>acoustic_vector_2</th>\n",
       "      <th>acoustic_vector_3</th>\n",
       "      <th>acoustic_vector_4</th>\n",
       "      <th>acoustic_vector_5</th>\n",
       "      <th>acoustic_vector_6</th>\n",
       "      <th>acoustic_vector_7</th>\n",
       "    </tr>\n",
       "  </thead>\n",
       "  <tbody>\n",
       "    <tr>\n",
       "      <th>76422</th>\n",
       "      <td>4.0</td>\n",
       "      <td>10.0</td>\n",
       "      <td>0.0</td>\n",
       "      <td>1.0</td>\n",
       "      <td>0.0</td>\n",
       "      <td>0.0</td>\n",
       "      <td>0.0</td>\n",
       "      <td>0.0</td>\n",
       "      <td>0.0</td>\n",
       "      <td>17.0</td>\n",
       "      <td>...</td>\n",
       "      <td>4</td>\n",
       "      <td>0.712556</td>\n",
       "      <td>-0.155284</td>\n",
       "      <td>0.135781</td>\n",
       "      <td>0.100487</td>\n",
       "      <td>-0.247824</td>\n",
       "      <td>-0.119555</td>\n",
       "      <td>0.205062</td>\n",
       "      <td>-0.106868</td>\n",
       "      <td>0.181833</td>\n",
       "    </tr>\n",
       "    <tr>\n",
       "      <th>95708</th>\n",
       "      <td>5.0</td>\n",
       "      <td>5.0</td>\n",
       "      <td>0.0</td>\n",
       "      <td>0.0</td>\n",
       "      <td>1.0</td>\n",
       "      <td>1.0</td>\n",
       "      <td>0.0</td>\n",
       "      <td>0.0</td>\n",
       "      <td>1.0</td>\n",
       "      <td>10.0</td>\n",
       "      <td>...</td>\n",
       "      <td>4</td>\n",
       "      <td>0.458095</td>\n",
       "      <td>-0.218142</td>\n",
       "      <td>0.171672</td>\n",
       "      <td>0.286516</td>\n",
       "      <td>-0.277489</td>\n",
       "      <td>-0.675640</td>\n",
       "      <td>0.305247</td>\n",
       "      <td>0.094001</td>\n",
       "      <td>0.684365</td>\n",
       "    </tr>\n",
       "    <tr>\n",
       "      <th>99497</th>\n",
       "      <td>3.0</td>\n",
       "      <td>10.0</td>\n",
       "      <td>0.0</td>\n",
       "      <td>1.0</td>\n",
       "      <td>0.0</td>\n",
       "      <td>0.0</td>\n",
       "      <td>0.0</td>\n",
       "      <td>0.0</td>\n",
       "      <td>0.0</td>\n",
       "      <td>12.0</td>\n",
       "      <td>...</td>\n",
       "      <td>4</td>\n",
       "      <td>0.079479</td>\n",
       "      <td>0.010505</td>\n",
       "      <td>0.095943</td>\n",
       "      <td>-0.013381</td>\n",
       "      <td>-0.214783</td>\n",
       "      <td>-0.426722</td>\n",
       "      <td>0.189385</td>\n",
       "      <td>0.060339</td>\n",
       "      <td>0.751097</td>\n",
       "    </tr>\n",
       "    <tr>\n",
       "      <th>76833</th>\n",
       "      <td>3.0</td>\n",
       "      <td>10.0</td>\n",
       "      <td>0.0</td>\n",
       "      <td>1.0</td>\n",
       "      <td>0.0</td>\n",
       "      <td>0.0</td>\n",
       "      <td>0.0</td>\n",
       "      <td>0.0</td>\n",
       "      <td>0.0</td>\n",
       "      <td>18.0</td>\n",
       "      <td>...</td>\n",
       "      <td>4</td>\n",
       "      <td>0.605342</td>\n",
       "      <td>-0.464312</td>\n",
       "      <td>0.282020</td>\n",
       "      <td>0.540822</td>\n",
       "      <td>0.570378</td>\n",
       "      <td>0.430034</td>\n",
       "      <td>-0.055478</td>\n",
       "      <td>0.859406</td>\n",
       "      <td>-0.146506</td>\n",
       "    </tr>\n",
       "    <tr>\n",
       "      <th>8316</th>\n",
       "      <td>3.0</td>\n",
       "      <td>0.0</td>\n",
       "      <td>0.0</td>\n",
       "      <td>1.0</td>\n",
       "      <td>0.0</td>\n",
       "      <td>0.0</td>\n",
       "      <td>0.0</td>\n",
       "      <td>0.0</td>\n",
       "      <td>1.0</td>\n",
       "      <td>20.0</td>\n",
       "      <td>...</td>\n",
       "      <td>4</td>\n",
       "      <td>0.376591</td>\n",
       "      <td>-0.596441</td>\n",
       "      <td>0.414059</td>\n",
       "      <td>0.224975</td>\n",
       "      <td>-0.159051</td>\n",
       "      <td>-0.227074</td>\n",
       "      <td>0.049221</td>\n",
       "      <td>-0.479210</td>\n",
       "      <td>-0.018310</td>\n",
       "    </tr>\n",
       "    <tr>\n",
       "      <th>...</th>\n",
       "      <td>...</td>\n",
       "      <td>...</td>\n",
       "      <td>...</td>\n",
       "      <td>...</td>\n",
       "      <td>...</td>\n",
       "      <td>...</td>\n",
       "      <td>...</td>\n",
       "      <td>...</td>\n",
       "      <td>...</td>\n",
       "      <td>...</td>\n",
       "      <td>...</td>\n",
       "      <td>...</td>\n",
       "      <td>...</td>\n",
       "      <td>...</td>\n",
       "      <td>...</td>\n",
       "      <td>...</td>\n",
       "      <td>...</td>\n",
       "      <td>...</td>\n",
       "      <td>...</td>\n",
       "      <td>...</td>\n",
       "      <td>...</td>\n",
       "    </tr>\n",
       "    <tr>\n",
       "      <th>133138</th>\n",
       "      <td>8.0</td>\n",
       "      <td>10.0</td>\n",
       "      <td>0.0</td>\n",
       "      <td>1.0</td>\n",
       "      <td>0.0</td>\n",
       "      <td>0.0</td>\n",
       "      <td>0.0</td>\n",
       "      <td>0.0</td>\n",
       "      <td>0.0</td>\n",
       "      <td>14.0</td>\n",
       "      <td>...</td>\n",
       "      <td>4</td>\n",
       "      <td>0.767231</td>\n",
       "      <td>-0.479632</td>\n",
       "      <td>0.147795</td>\n",
       "      <td>0.312882</td>\n",
       "      <td>0.611407</td>\n",
       "      <td>0.665170</td>\n",
       "      <td>-0.131748</td>\n",
       "      <td>0.584243</td>\n",
       "      <td>-0.031937</td>\n",
       "    </tr>\n",
       "    <tr>\n",
       "      <th>103024</th>\n",
       "      <td>3.0</td>\n",
       "      <td>2.0</td>\n",
       "      <td>0.0</td>\n",
       "      <td>1.0</td>\n",
       "      <td>0.0</td>\n",
       "      <td>0.0</td>\n",
       "      <td>1.0</td>\n",
       "      <td>0.0</td>\n",
       "      <td>0.0</td>\n",
       "      <td>12.0</td>\n",
       "      <td>...</td>\n",
       "      <td>4</td>\n",
       "      <td>0.176873</td>\n",
       "      <td>-0.764719</td>\n",
       "      <td>0.265677</td>\n",
       "      <td>0.198811</td>\n",
       "      <td>0.072622</td>\n",
       "      <td>-0.279638</td>\n",
       "      <td>-0.002315</td>\n",
       "      <td>-0.452050</td>\n",
       "      <td>0.194908</td>\n",
       "    </tr>\n",
       "    <tr>\n",
       "      <th>147629</th>\n",
       "      <td>8.0</td>\n",
       "      <td>10.0</td>\n",
       "      <td>0.0</td>\n",
       "      <td>1.0</td>\n",
       "      <td>0.0</td>\n",
       "      <td>0.0</td>\n",
       "      <td>0.0</td>\n",
       "      <td>0.0</td>\n",
       "      <td>0.0</td>\n",
       "      <td>16.0</td>\n",
       "      <td>...</td>\n",
       "      <td>4</td>\n",
       "      <td>0.341744</td>\n",
       "      <td>-0.899932</td>\n",
       "      <td>0.328876</td>\n",
       "      <td>0.252109</td>\n",
       "      <td>0.133214</td>\n",
       "      <td>-0.286828</td>\n",
       "      <td>-0.000055</td>\n",
       "      <td>-0.491611</td>\n",
       "      <td>0.145450</td>\n",
       "    </tr>\n",
       "    <tr>\n",
       "      <th>1244</th>\n",
       "      <td>8.0</td>\n",
       "      <td>10.0</td>\n",
       "      <td>0.0</td>\n",
       "      <td>0.0</td>\n",
       "      <td>1.0</td>\n",
       "      <td>1.0</td>\n",
       "      <td>0.0</td>\n",
       "      <td>0.0</td>\n",
       "      <td>0.0</td>\n",
       "      <td>5.0</td>\n",
       "      <td>...</td>\n",
       "      <td>4</td>\n",
       "      <td>0.519903</td>\n",
       "      <td>-1.026891</td>\n",
       "      <td>0.338776</td>\n",
       "      <td>0.267942</td>\n",
       "      <td>0.183636</td>\n",
       "      <td>-0.371425</td>\n",
       "      <td>-0.068312</td>\n",
       "      <td>-0.598395</td>\n",
       "      <td>0.138009</td>\n",
       "    </tr>\n",
       "    <tr>\n",
       "      <th>86909</th>\n",
       "      <td>0.0</td>\n",
       "      <td>10.0</td>\n",
       "      <td>0.0</td>\n",
       "      <td>0.0</td>\n",
       "      <td>0.0</td>\n",
       "      <td>0.0</td>\n",
       "      <td>0.0</td>\n",
       "      <td>0.0</td>\n",
       "      <td>1.0</td>\n",
       "      <td>0.0</td>\n",
       "      <td>...</td>\n",
       "      <td>4</td>\n",
       "      <td>0.515197</td>\n",
       "      <td>-0.337415</td>\n",
       "      <td>0.468145</td>\n",
       "      <td>0.225865</td>\n",
       "      <td>-0.194833</td>\n",
       "      <td>-0.101537</td>\n",
       "      <td>0.140334</td>\n",
       "      <td>0.097174</td>\n",
       "      <td>-0.068761</td>\n",
       "    </tr>\n",
       "  </tbody>\n",
       "</table>\n",
       "<p>124257 rows × 42 columns</p>\n",
       "</div>"
      ],
      "text/plain": [
       "        session_position  session_length  context_switch  \\\n",
       "76422                4.0            10.0             0.0   \n",
       "95708                5.0             5.0             0.0   \n",
       "99497                3.0            10.0             0.0   \n",
       "76833                3.0            10.0             0.0   \n",
       "8316                 3.0             0.0             0.0   \n",
       "...                  ...             ...             ...   \n",
       "133138               8.0            10.0             0.0   \n",
       "103024               3.0             2.0             0.0   \n",
       "147629               8.0            10.0             0.0   \n",
       "1244                 8.0            10.0             0.0   \n",
       "86909                0.0            10.0             0.0   \n",
       "\n",
       "        no_pause_before_play  short_pause_before_play  long_pause_before_play  \\\n",
       "76422                    1.0                      0.0                     0.0   \n",
       "95708                    0.0                      1.0                     1.0   \n",
       "99497                    1.0                      0.0                     0.0   \n",
       "76833                    1.0                      0.0                     0.0   \n",
       "8316                     1.0                      0.0                     0.0   \n",
       "...                      ...                      ...                     ...   \n",
       "133138                   1.0                      0.0                     0.0   \n",
       "103024                   1.0                      0.0                     0.0   \n",
       "147629                   1.0                      0.0                     0.0   \n",
       "1244                     0.0                      1.0                     1.0   \n",
       "86909                    0.0                      0.0                     0.0   \n",
       "\n",
       "        hist_user_behavior_n_seekfwd  hist_user_behavior_n_seekback  \\\n",
       "76422                            0.0                            0.0   \n",
       "95708                            0.0                            0.0   \n",
       "99497                            0.0                            0.0   \n",
       "76833                            0.0                            0.0   \n",
       "8316                             0.0                            0.0   \n",
       "...                              ...                            ...   \n",
       "133138                           0.0                            0.0   \n",
       "103024                           1.0                            0.0   \n",
       "147629                           0.0                            0.0   \n",
       "1244                             0.0                            0.0   \n",
       "86909                            0.0                            0.0   \n",
       "\n",
       "        hist_user_behavior_is_shuffle  hour_of_day  ...  time_signature  \\\n",
       "76422                             0.0         17.0  ...               4   \n",
       "95708                             1.0         10.0  ...               4   \n",
       "99497                             0.0         12.0  ...               4   \n",
       "76833                             0.0         18.0  ...               4   \n",
       "8316                              1.0         20.0  ...               4   \n",
       "...                               ...          ...  ...             ...   \n",
       "133138                            0.0         14.0  ...               4   \n",
       "103024                            0.0         12.0  ...               4   \n",
       "147629                            0.0         16.0  ...               4   \n",
       "1244                              0.0          5.0  ...               4   \n",
       "86909                             1.0          0.0  ...               4   \n",
       "\n",
       "         valence  acoustic_vector_0  acoustic_vector_1  acoustic_vector_2  \\\n",
       "76422   0.712556          -0.155284           0.135781           0.100487   \n",
       "95708   0.458095          -0.218142           0.171672           0.286516   \n",
       "99497   0.079479           0.010505           0.095943          -0.013381   \n",
       "76833   0.605342          -0.464312           0.282020           0.540822   \n",
       "8316    0.376591          -0.596441           0.414059           0.224975   \n",
       "...          ...                ...                ...                ...   \n",
       "133138  0.767231          -0.479632           0.147795           0.312882   \n",
       "103024  0.176873          -0.764719           0.265677           0.198811   \n",
       "147629  0.341744          -0.899932           0.328876           0.252109   \n",
       "1244    0.519903          -1.026891           0.338776           0.267942   \n",
       "86909   0.515197          -0.337415           0.468145           0.225865   \n",
       "\n",
       "        acoustic_vector_3  acoustic_vector_4  acoustic_vector_5  \\\n",
       "76422           -0.247824          -0.119555           0.205062   \n",
       "95708           -0.277489          -0.675640           0.305247   \n",
       "99497           -0.214783          -0.426722           0.189385   \n",
       "76833            0.570378           0.430034          -0.055478   \n",
       "8316            -0.159051          -0.227074           0.049221   \n",
       "...                   ...                ...                ...   \n",
       "133138           0.611407           0.665170          -0.131748   \n",
       "103024           0.072622          -0.279638          -0.002315   \n",
       "147629           0.133214          -0.286828          -0.000055   \n",
       "1244             0.183636          -0.371425          -0.068312   \n",
       "86909           -0.194833          -0.101537           0.140334   \n",
       "\n",
       "        acoustic_vector_6  acoustic_vector_7  \n",
       "76422           -0.106868           0.181833  \n",
       "95708            0.094001           0.684365  \n",
       "99497            0.060339           0.751097  \n",
       "76833            0.859406          -0.146506  \n",
       "8316            -0.479210          -0.018310  \n",
       "...                   ...                ...  \n",
       "133138           0.584243          -0.031937  \n",
       "103024          -0.452050           0.194908  \n",
       "147629          -0.491611           0.145450  \n",
       "1244            -0.598395           0.138009  \n",
       "86909            0.097174          -0.068761  \n",
       "\n",
       "[124257 rows x 42 columns]"
      ]
     },
     "execution_count": 2,
     "metadata": {},
     "output_type": "execute_result"
    }
   ],
   "source": [
    "raw_data = pd.read_csv('./data/clipped_data.csv')\n",
    "y = raw_data['not_skipped']\n",
    "raw_data.drop(['not_skipped', 'Unnamed: 0'], axis=1, inplace=True)\n",
    "X_train, X_test, y_train, y_test = train_test_split(raw_data, y, test_size = 0.25, random_state= 2022)\n",
    "X_train"
   ]
  },
  {
   "cell_type": "markdown",
   "metadata": {},
   "source": [
    "## Logistic Regression"
   ]
  },
  {
   "cell_type": "code",
   "execution_count": 3,
   "metadata": {},
   "outputs": [
    {
     "name": "stderr",
     "output_type": "stream",
     "text": [
      "/Users/noah/Desktop/Machine Learning/final project/.venv/lib/python3.8/site-packages/sklearn/linear_model/_logistic.py:814: ConvergenceWarning: lbfgs failed to converge (status=1):\n",
      "STOP: TOTAL NO. of ITERATIONS REACHED LIMIT.\n",
      "\n",
      "Increase the number of iterations (max_iter) or scale the data as shown in:\n",
      "    https://scikit-learn.org/stable/modules/preprocessing.html\n",
      "Please also refer to the documentation for alternative solver options:\n",
      "    https://scikit-learn.org/stable/modules/linear_model.html#logistic-regression\n",
      "  n_iter_i = _check_optimize_result(\n"
     ]
    },
    {
     "data": {
      "text/plain": [
       "LogisticRegression()"
      ]
     },
     "execution_count": 3,
     "metadata": {},
     "output_type": "execute_result"
    }
   ],
   "source": [
    "logit = LogisticRegression()\n",
    "logit.fit(X_train, y_train)"
   ]
  },
  {
   "cell_type": "code",
   "execution_count": 7,
   "metadata": {},
   "outputs": [],
   "source": [
    "y_hat = logit.predict(X_test)\n",
    "y_proba = logit.predict_proba(X_test)[:, 1]"
   ]
  },
  {
   "cell_type": "code",
   "execution_count": 8,
   "metadata": {},
   "outputs": [
    {
     "name": "stdout",
     "output_type": "stream",
     "text": [
      "Accuracy: 0.74934 Precision: 0.69221 Recall: 0.42119 F1: 0.52372\n"
     ]
    }
   ],
   "source": [
    "acc = accuracy_score(y_test, y_hat)\n",
    "prec = precision_score(y_test, y_hat)\n",
    "rec = recall_score(y_test, y_hat)\n",
    "f = f1_score(y_test, y_hat)\n",
    "\n",
    "template = \"Accuracy: {:.5f} Precision: {:.5f} Recall: {:.5f} F1: {:.5f}\"\n",
    "print(template.format(acc, prec, rec, f))"
   ]
  },
  {
   "cell_type": "code",
   "execution_count": 9,
   "metadata": {},
   "outputs": [
    {
     "data": {
      "text/plain": [
       "array([[25329,  2538],\n",
       "       [ 7844,  5708]])"
      ]
     },
     "execution_count": 9,
     "metadata": {},
     "output_type": "execute_result"
    }
   ],
   "source": [
    "confusion_matrix(y_test, y_hat)"
   ]
  },
  {
   "cell_type": "code",
   "execution_count": 13,
   "metadata": {},
   "outputs": [
    {
     "data": {
      "image/png": "[encoded data removed]",
      "text/plain": [
       "<Figure size 432x288 with 1 Axes>"
      ]
     },
     "metadata": {
      "needs_background": "light"
     },
     "output_type": "display_data"
    }
   ],
   "source": [
    "fpr, tpr, tresholds = roc_curve(y_test, y_proba)\n",
    "plt.plot(fpr, tpr)\n",
    "plt.xlabel(\"False Positive Rate\")\n",
    "plt.ylabel(\"True Positive Rate\")\n",
    "plt.title(\"ROC curve for Logistic Regression\")\n",
    "if SAVE_FIG: plt.savefig(\"Logit_roc.png\")"
   ]
  },
  {
   "cell_type": "code",
   "execution_count": 14,
   "metadata": {},
   "outputs": [
    {
     "data": {
      "text/plain": [
       "0.693507328133817"
      ]
     },
     "execution_count": 14,
     "metadata": {},
     "output_type": "execute_result"
    }
   ],
   "source": [
    "roc_auc_score(y_test, y_proba)"
   ]
  },
  {
   "cell_type": "markdown",
   "metadata": {},
   "source": [
    "## GNB"
   ]
  },
  {
   "cell_type": "code",
   "execution_count": 15,
   "metadata": {},
   "outputs": [
    {
     "data": {
      "text/plain": [
       "GaussianNB()"
      ]
     },
     "execution_count": 15,
     "metadata": {},
     "output_type": "execute_result"
    }
   ],
   "source": [
    "gnb = GaussianNB()\n",
    "gnb.fit(X_train, y_train)"
   ]
  },
  {
   "cell_type": "code",
   "execution_count": 16,
   "metadata": {},
   "outputs": [],
   "source": [
    "y_hat_gnb = gnb.predict(X_test)\n",
    "y_proba_gnb = gnb.predict_proba(X_test)[:, 1]"
   ]
  },
  {
   "cell_type": "code",
   "execution_count": 17,
   "metadata": {},
   "outputs": [
    {
     "name": "stdout",
     "output_type": "stream",
     "text": [
      "Accuracy: 0.68121 Precision: 0.50983 Recall: 0.66595 F1: 0.57753\n"
     ]
    }
   ],
   "source": [
    "acc = accuracy_score(y_test, y_hat_gnb)\n",
    "prec = precision_score(y_test, y_hat_gnb)\n",
    "rec = recall_score(y_test, y_hat_gnb)\n",
    "f = f1_score(y_test, y_hat_gnb)\n",
    "\n",
    "template = \"Accuracy: {:.5f} Precision: {:.5f} Recall: {:.5f} F1: {:.5f}\"\n",
    "print(template.format(acc, prec, rec, f))"
   ]
  },
  {
   "cell_type": "code",
   "execution_count": 18,
   "metadata": {},
   "outputs": [
    {
     "data": {
      "text/plain": [
       "array([[19190,  8677],\n",
       "       [ 4527,  9025]])"
      ]
     },
     "execution_count": 18,
     "metadata": {},
     "output_type": "execute_result"
    }
   ],
   "source": [
    "confusion_matrix(y_test, y_hat_gnb)"
   ]
  },
  {
   "cell_type": "code",
   "execution_count": 23,
   "metadata": {},
   "outputs": [
    {
     "data": {
      "image/png": "[encoded data removed]",
      "text/plain": [
       "<Figure size 432x288 with 1 Axes>"
      ]
     },
     "metadata": {
      "needs_background": "light"
     },
     "output_type": "display_data"
    }
   ],
   "source": [
    "fpr_gnb, tpr_gnb, _ = roc_curve(y_test, y_proba_gnb)\n",
    "plt.plot(fpr_gnb, tpr_gnb)\n",
    "plt.xlabel(\"False Positive Rate\")\n",
    "plt.ylabel(\"True Positive Rate\")\n",
    "plt.title(\"ROC curve for Gaussian Naive Bayes\")\n",
    "if SAVE_FIG: plt.savefig(\"GNB_roc.png\")"
   ]
  },
  {
   "cell_type": "code",
   "execution_count": 20,
   "metadata": {},
   "outputs": [
    {
     "data": {
      "text/plain": [
       "0.7190764539388033"
      ]
     },
     "execution_count": 20,
     "metadata": {},
     "output_type": "execute_result"
    }
   ],
   "source": [
    "roc_auc_score(y_test, y_proba_gnb)"
   ]
  },
  {
   "cell_type": "code",
   "execution_count": 26,
   "metadata": {},
   "outputs": [
    {
     "data": {
      "image/png": "[encoded data removed]",
      "text/plain": [
       "<Figure size 432x288 with 1 Axes>"
      ]
     },
     "metadata": {
      "needs_background": "light"
     },
     "output_type": "display_data"
    }
   ],
   "source": [
    "plt.plot(fpr_gnb, tpr_gnb, label='Gaussian Naive Bayes')\n",
    "plt.plot(fpr, tpr, label='Logistic Regression')\n",
    "plt.legend()\n",
    "plt.xlabel(\"False Positive Rate\")\n",
    "plt.ylabel(\"True Positive Rate\")\n",
    "plt.title(\"ROC curve for Gaussian Naive Bayes and Logistic Regression\")\n",
    "if SAVE_FIG: plt.savefig(\"combined_roc.png\")"
   ]
  },
  {
   "cell_type": "code",
   "execution_count": null,
   "metadata": {},
   "outputs": [],
   "source": []
  }
 ],
 "metadata": {
  "interpreter": {
   "hash": "29f4812d33dadcad0b37f309456ecf77aa32337c1bd8abfea0be004ece206f45"
  },
  "kernelspec": {
   "display_name": "Python 3.8.2 ('.venv': poetry)",
   "language": "python",
   "name": "python3"
  },
  "language_info": {
   "codemirror_mode": {
    "name": "ipython",
    "version": 3
   },
   "file_extension": ".py",
   "mimetype": "text/x-python",
   "name": "python",
   "nbconvert_exporter": "python",
   "pygments_lexer": "ipython3",
   "version": "3.8.2"
  },
  "orig_nbformat": 4
 },
 "nbformat": 4,
 "nbformat_minor": 2
}
